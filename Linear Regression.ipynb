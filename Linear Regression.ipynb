{
 "cells": [
  {
   "cell_type": "code",
   "execution_count": 28,
   "metadata": {},
   "outputs": [],
   "source": [
    "# Import libraries\n",
    "import pyodc #for sql server connections\n",
    "import pandas\n",
    "import numpy \n",
    "\n",
    "from sklearn import linear_model\n",
    "from sklearn.linear_model import LinearRegression\n",
    "from sklearn.metrics import mean_squared_error, accuracy_score, r2_score\n",
    "from sklearn.model_selection import train_test_split\n",
    "\n",
    "from matplotlib import pyplot as plt\n",
    "import joblib"
   ]
  },
  {
   "cell_type": "code",
   "execution_count": 15,
   "metadata": {
    "scrolled": true
   },
   "outputs": [
    {
     "name": "stdout",
     "output_type": "stream",
     "text": [
      "Dataframe:\n",
      "        time  year  month_no  Total Mail\n",
      "0    1980-01  1980         1         619\n",
      "1    1980-02  1980         2         593\n",
      "2    1980-03  1980         3         642\n",
      "3    1980-04  1980         4         642\n",
      "4    1980-05  1980         5         646\n",
      "..       ...   ...       ...         ...\n",
      "482  2020-03  2020       483        2558\n",
      "483  2020-04  2020       484         931\n",
      "484  2020-05  2020       485        1633\n",
      "485  2020-06  2020       486        2496\n",
      "486  2020-07  2020       487        3054\n",
      "\n",
      "[487 rows x 4 columns]\n"
     ]
    }
   ],
   "source": [
    "# Importing the data \n",
    "csv_file = r'C:\\Users\\HexagonRig 2\\Documents\\GitHub\\MLWithPython\\Sample Data\\mail-volume.csv'\n",
    "dataframe = pandas.read_csv(csv_file)\n",
    "\n",
    "print(\"Dataframe:\")\n",
    "print(dataframe)"
   ]
  },
  {
   "cell_type": "code",
   "execution_count": 16,
   "metadata": {},
   "outputs": [
    {
     "name": "stdout",
     "output_type": "stream",
     "text": [
      "     month_no\n",
      "0           1\n",
      "1           2\n",
      "2           3\n",
      "3           4\n",
      "4           5\n",
      "..        ...\n",
      "482       483\n",
      "483       484\n",
      "484       485\n",
      "485       486\n",
      "486       487\n",
      "\n",
      "[487 rows x 1 columns]\n",
      "0       619\n",
      "1       593\n",
      "2       642\n",
      "3       642\n",
      "4       646\n",
      "       ... \n",
      "482    2558\n",
      "483     931\n",
      "484    1633\n",
      "485    2496\n",
      "486    3054\n",
      "Name: Total Mail, Length: 487, dtype: int64\n"
     ]
    }
   ],
   "source": [
    "x = dataframe.drop(columns=['time','year','Total Mail'])\n",
    "y = dataframe['Total Mail']\n",
    "\n",
    "print(x)\n",
    "print(y)"
   ]
  },
  {
   "cell_type": "code",
   "execution_count": 22,
   "metadata": {},
   "outputs": [
    {
     "name": "stdout",
     "output_type": "stream",
     "text": [
      "     month_no\n",
      "228       229\n",
      "391       392\n",
      "51         52\n",
      "373       374\n",
      "465       466\n",
      "..        ...\n",
      "127       128\n",
      "361       362\n",
      "417       418\n",
      "99        100\n",
      "315       316\n",
      "\n",
      "[389 rows x 1 columns]\n",
      "\n",
      "     month_no\n",
      "169       170\n",
      "393       394\n",
      "485       486\n",
      "152       153\n",
      "376       377\n",
      "..        ...\n",
      "62         63\n",
      "93         94\n",
      "450       451\n",
      "443       444\n",
      "133       134\n",
      "\n",
      "[98 rows x 1 columns]\n",
      "\n",
      "228    1868\n",
      "391    2866\n",
      "51      724\n",
      "373    2144\n",
      "465    3191\n",
      "       ... \n",
      "127     648\n",
      "361    1810\n",
      "417    3007\n",
      "99      721\n",
      "315    1694\n",
      "Name: Total Mail, Length: 389, dtype: int64\n",
      "\n",
      "169    1184\n",
      "393    3067\n",
      "485    2496\n",
      "152     896\n",
      "376    2543\n",
      "       ... \n",
      "62      837\n",
      "93      811\n",
      "450    3113\n",
      "443    3860\n",
      "133     690\n",
      "Name: Total Mail, Length: 98, dtype: int64\n"
     ]
    }
   ],
   "source": [
    "# Splitting the data for testing\n",
    "x_train, x_test, y_train, y_test = train_test_split(x, y, test_size=0.2)\n",
    "print(x_train)\n",
    "print(\"\")\n",
    "print(x_test)\n",
    "print(\"\")\n",
    "print(y_train)\n",
    "print(\"\")\n",
    "print(y_test)"
   ]
  },
  {
   "cell_type": "code",
   "execution_count": 23,
   "metadata": {},
   "outputs": [
    {
     "data": {
      "text/plain": [
       "LinearRegression()"
      ]
     },
     "execution_count": 23,
     "metadata": {},
     "output_type": "execute_result"
    }
   ],
   "source": [
    "# Create regression object and train model\n",
    "reg = linear_model.LinearRegression()\n",
    "reg.fit(x_train, y_train)"
   ]
  },
  {
   "cell_type": "code",
   "execution_count": 24,
   "metadata": {},
   "outputs": [
    {
     "data": {
      "text/plain": [
       "array([1342.54996657, 2650.86593935, 3188.2099996 , 1243.25812935,\n",
       "       2551.57410213,  746.79894324, 1663.78826345,  834.40938785,\n",
       "       2312.10555354, 1231.57673673, 1295.82439611, 1757.23940437,\n",
       "       2580.77758366, 1996.70795296, 2522.37062059, 1266.62091457,\n",
       "       2376.35321292, 1909.09750835, 1716.35453022, 1418.47901856,\n",
       "       2177.76953848,  945.38261768, 1389.27553702, 2352.99042769,\n",
       "       2837.76822118, 2282.902072  , 2142.72536063, 3094.75885869,\n",
       "       2539.89270951, 2697.59150981, 1868.2126342 , 1114.76281059,\n",
       "        583.25944665, 2878.65309532, 1056.35584752,  962.90470661,\n",
       "       2598.29967259, 2341.30903507,  372.99437959, 1792.28358221,\n",
       "       1622.9033893 , 2020.07073819, 2271.22067939,  483.96760943,\n",
       "       1412.63832225, 3059.71468084, 2633.34385043, 2224.49510893,\n",
       "       2750.15777657, 1494.40807055, 3083.07746607,  863.61286939,\n",
       "       3123.96234022, 1383.43484071, 2055.11491603, 1459.36389271,\n",
       "       2995.46702147,  892.81635092,  478.12691312, 1120.6035069 ,\n",
       "       1173.16977366,  781.84312109,  472.28621681, 3048.03328823,\n",
       "       2779.3612581 , 3147.32512545, 3077.23676976, 1564.49642623,\n",
       "        489.80830573,  606.62223187, 3141.48442914, 2937.0600584 ,\n",
       "       2884.49379163, 2493.16713906,  367.15368328, 2440.60087229,\n",
       "       2183.61023478,  577.41875034, 1365.91275179,  548.2152688 ,\n",
       "       1400.95692964, 1406.79762594,  635.82571341, 1360.07205549,\n",
       "        507.33039465,  828.56869154, 1511.93015947, 2755.99847288,\n",
       "       1675.46965607,  454.76412789,  554.05596511, 3012.98911039,\n",
       "       1179.01046997,  717.59546171,  898.65704723, 2983.78562885,\n",
       "       2942.9007547 , 1132.28489951])"
      ]
     },
     "execution_count": 24,
     "metadata": {},
     "output_type": "execute_result"
    }
   ],
   "source": [
    "# Generate predictions\n",
    "predictions = reg.predict(x_test)\n",
    "predictions"
   ]
  },
  {
   "cell_type": "code",
   "execution_count": 29,
   "metadata": {
    "scrolled": true
   },
   "outputs": [
    {
     "name": "stdout",
     "output_type": "stream",
     "text": [
      "Coefficients: \n",
      " [5.84069631]\n",
      "Mean squared error 134201.78\n",
      "Coefficient of dtermination 0.87\n"
     ]
    }
   ],
   "source": [
    "# Compare predictions\n",
    "print('Coefficients: \\n', reg.coef_)\n",
    "print('Mean squared error %.2f' % mean_squared_error(y_test, predictions) )\n",
    "print('Coefficient of dtermination %.2f' % r2_score(y_test, predictions) )"
   ]
  },
  {
   "cell_type": "code",
   "execution_count": 30,
   "metadata": {},
   "outputs": [
    {
     "data": {
      "image/png": "[encoded data removed]",
      "text/plain": [
       "<Figure size 432x288 with 1 Axes>"
      ]
     },
     "metadata": {},
     "output_type": "display_data"
    }
   ],
   "source": [
    "# Plot outputs\n",
    "plt.scatter(x_test, y_test, color='black')\n",
    "plt.plot(x_test, predictions, color='blue', linewidth=3)\n",
    "\n",
    "plt.xticks(())\n",
    "plt.yticks(())\n",
    "\n",
    "plt.show()"
   ]
  }
 ],
 "metadata": {
  "kernelspec": {
   "display_name": "Python 3",
   "language": "python",
   "name": "python3"
  },
  "language_info": {
   "codemirror_mode": {
    "name": "ipython",
    "version": 3
   },
   "file_extension": ".py",
   "mimetype": "text/x-python",
   "name": "python",
   "nbconvert_exporter": "python",
   "pygments_lexer": "ipython3",
   "version": "3.8.5"
  }
 },
 "nbformat": 4,
 "nbformat_minor": 4
}
