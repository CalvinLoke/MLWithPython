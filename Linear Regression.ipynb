{
 "cells": [
  {
   "cell_type": "code",
   "execution_count": 63,
   "metadata": {},
   "outputs": [],
   "source": [
    "# Import libraries\n",
    "import pyodc #for sql server connections\n",
    "import pandas\n",
    "import numpy \n",
    "\n",
    "from sklearn.linear_model import LinearRegression\n",
    "from sklearn.metrics import mean_squared_error, accuracy_score, r2_score\n",
    "from sklearn.model_selection import train_test_split\n",
    "\n",
    "from matplotlib import pyplot as plt\n",
    "import joblib"
   ]
  },
  {
   "cell_type": "code",
   "execution_count": 8,
   "metadata": {
    "scrolled": true
   },
   "outputs": [
    {
     "name": "stdout",
     "output_type": "stream",
     "text": [
      "Dataframe:\n",
      "        time  year  month_no  total_traffic  total_passengers  total_mail\n",
      "0    1980-01  1980         1           6501            566879         619\n",
      "1    1980-02  1980         2           6112            552263         593\n",
      "2    1980-03  1980         3           6391            597644         642\n",
      "3    1980-04  1980         4           6247            561218         642\n",
      "4    1980-05  1980         5           6301            587003         646\n",
      "..       ...   ...       ...            ...               ...         ...\n",
      "482  2020-03  2020         3          16223           1649662        2558\n",
      "483  2020-04  2020         4           3865             25189         931\n",
      "484  2020-05  2020         5           4472             24504        1633\n",
      "485  2020-06  2020         6           4779             48241        2496\n",
      "486  2020-07  2020         7           5247             85981        3054\n",
      "\n",
      "[487 rows x 6 columns]\n"
     ]
    }
   ],
   "source": [
    "# Importing the data \n",
    "csv_file = r'C:\\Users\\HexagonRig 2\\Documents\\GitHub\\MLWithPython\\Sample Data\\airport_data.csv'\n",
    "raw_dataframe = pandas.read_csv(csv_file)\n",
    "\n",
    "print(\"Dataframe:\")\n",
    "print(raw_dataframe)"
   ]
  },
  {
   "cell_type": "code",
   "execution_count": 99,
   "metadata": {},
   "outputs": [
    {
     "name": "stdout",
     "output_type": "stream",
     "text": [
      "     month_no  total_traffic\n",
      "21         10           5944\n",
      "449         6          30915\n",
      "96          1           6729\n",
      "170         3          12091\n",
      "408         1          30353\n",
      "..        ...            ...\n",
      "133         2           7883\n",
      "221         6          13431\n",
      "132         1           8615\n",
      "124         5           8250\n",
      "10         11           6326\n",
      "\n",
      "[482 rows x 2 columns]\n"
     ]
    }
   ],
   "source": [
    "# Defining the dependent and independent variables\n",
    "independent_variables = ['month_no','total_traffic']\n",
    "dependent_variable = ['total_passengers']\n",
    "\n",
    "independent_dataset = raw_dataframe[independent_variables]\n",
    "dependent_dataset = raw_dataframe[dependent_variable]\n",
    "\n",
    "# Further splitting dataset into training and testing subsets\n",
    "test_ratio=0.01\n",
    "indp_train_set, indp_test_set, dep_train_set, dep_test_set = train_test_split(independent_dataset, \n",
    "                                                                              dependent_dataset, \n",
    "                                                                              test_size=test_ratio)\n",
    "\n",
    "print(indp_train_set)"
   ]
  },
  {
   "cell_type": "code",
   "execution_count": 100,
   "metadata": {},
   "outputs": [
    {
     "data": {
      "text/plain": [
       "LinearRegression()"
      ]
     },
     "execution_count": 100,
     "metadata": {},
     "output_type": "execute_result"
    }
   ],
   "source": [
    "# Create regression object and train model\n",
    "linear_model = LinearRegression()\n",
    "\n",
    "linear_model.fit(indp_train_set, dep_train_set)"
   ]
  },
  {
   "cell_type": "code",
   "execution_count": 101,
   "metadata": {},
   "outputs": [
    {
     "data": {
      "text/plain": [
       "array([[4701458.34646017],\n",
       "       [2162118.04295285],\n",
       "       [2227075.63118465],\n",
       "       [1980747.41610582],\n",
       "       [2334097.72507001]])"
      ]
     },
     "execution_count": 101,
     "metadata": {},
     "output_type": "execute_result"
    }
   ],
   "source": [
    "# Generate predictions\n",
    "linear_predictions = linear_model.predict(indp_test_set)\n",
    "linear_predictions"
   ]
  },
  {
   "cell_type": "code",
   "execution_count": 102,
   "metadata": {
    "scrolled": false
   },
   "outputs": [
    {
     "name": "stdout",
     "output_type": "stream",
     "text": [
      "Computed error 40536503766.01042\n"
     ]
    }
   ],
   "source": [
    "# Compare predictions\n",
    "linear_mse = mean_squared_error(linear_predictions, dep_test_set)\n",
    "print(\"Computed error\", linear_mse)"
   ]
  }
 ],
 "metadata": {
  "kernelspec": {
   "display_name": "Python 3",
   "language": "python",
   "name": "python3"
  },
  "language_info": {
   "codemirror_mode": {
    "name": "ipython",
    "version": 3
   },
   "file_extension": ".py",
   "mimetype": "text/x-python",
   "name": "python",
   "nbconvert_exporter": "python",
   "pygments_lexer": "ipython3",
   "version": "3.8.5"
  }
 },
 "nbformat": 4,
 "nbformat_minor": 4
}
