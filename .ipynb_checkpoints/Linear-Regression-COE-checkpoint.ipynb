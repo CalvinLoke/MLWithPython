{
 "cells": [
  {
   "cell_type": "code",
   "execution_count": 4,
   "metadata": {},
   "outputs": [],
   "source": [
    "#import libraries\n",
    "import pandas\n",
    "\n",
    "from sklearn.linear_model import LinearRegression\n",
    "from sklearn.metrics import mean_squared_error, r2_score\n",
    "from sklearn.model_selection import train_test_split\n",
    "\n",
    "import seaborn as sns\n",
    "import matplotlib.pyplot as plt\n",
    "\n",
    "import numpy as np\n",
    "\n",
    "import math\n",
    "\n",
    "import pickle"
   ]
  },
  {
   "cell_type": "code",
   "execution_count": 8,
   "metadata": {},
   "outputs": [
    {
     "name": "stdout",
     "output_type": "stream",
     "text": [
      "Dataframe: \n",
      "        month  month_no  bidding_no  vehicle_class  quota  bids_success  \\\n",
      "0     2010-01         1           1              1   1152          1145   \n",
      "1     2010-01         1           1              2    687           679   \n",
      "2     2010-01         1           1              3    173           173   \n",
      "3     2010-01         1           1              4    373           365   \n",
      "4     2010-01         1           1              5    586           567   \n",
      "...       ...       ...         ...            ...    ...           ...   \n",
      "1225  2020-03         3           2              1    982           962   \n",
      "1226  2020-03         3           2              2    992           943   \n",
      "1227  2020-03         3           2              3    448           448   \n",
      "1228  2020-03         3           2              4    581           576   \n",
      "1229  2020-03         3           2              5    331           324   \n",
      "\n",
      "      bids_received  premium  \n",
      "0              1342    18502  \n",
      "1               883    19190  \n",
      "2               265    19001  \n",
      "3               509      889  \n",
      "4              1011    19889  \n",
      "...             ...      ...  \n",
      "1225           1421    31210  \n",
      "1226           1366    30012  \n",
      "1227            708    22002  \n",
      "1228            757     4489  \n",
      "1229            503    32500  \n",
      "\n",
      "[1230 rows x 8 columns]\n"
     ]
    }
   ],
   "source": [
    "#import data\n",
    "csv_file=r\"C:\\Users\\HexagonRig 2\\Documents\\GitHub\\MLWithPython\\Sample Data\\coe-results.csv\"\n",
    "raw_dataframe = pandas.read_csv(csv_file)\n",
    "\n",
    "print(\"Dataframe: \")\n",
    "print(raw_dataframe)"
   ]
  },
  {
   "cell_type": "code",
   "execution_count": null,
   "metadata": {},
   "outputs": [],
   "source": [
    "#Observing the relationship between dependent variable and time\n",
    "dependent_variable = ['<variable0>'] \n",
    "dependent_dataset = raw_dataframe[dependent_variable]\n",
    "\n",
    "dependent_dataset.head(100).plot() #modify this value to adjust number of rows returned"
   ]
  },
  {
   "cell_type": "code",
   "execution_count": null,
   "metadata": {},
   "outputs": [],
   "source": [
    "# Extract the required data\n",
    "row_count = 250 # restricts the number of rows to extract\n",
    "\n",
    "independent_variables = ['<variable0>','<variable1>'] #input any number of variables\n",
    "dependent_variable = ['<variable0>'] #only input one variable\n",
    "\n",
    "independent_dataset = raw_dataframe[independent_variables].head(row_count)\n",
    "dependent_dataset = raw_dataframe[dependent_variable].head(row_count)\n",
    "\n",
    "# Further splitting dataset into training and testing subsets\n",
    "test_ratio=0.2 #splits the data into testing and training sets with ratio 0.2\n",
    "indp_train_set, indp_test_set, dep_train_set, dep_test_set = train_test_split(independent_dataset, \n",
    "                                                                              dependent_dataset, \n",
    "                                                                              test_size=test_ratio)\n",
    "\n",
    "print(indp_train_set) #outputs the generated test set"
   ]
  },
  {
   "cell_type": "code",
   "execution_count": null,
   "metadata": {},
   "outputs": [],
   "source": [
    "# Create regression object and train model\n",
    "linear_model = LinearRegression()\n",
    "linear_model.fit(indp_train_set, dep_train_set)\n",
    "print(\"Coefficients:\", linear_model.coef_)\n",
    "print(\"Intercept:\", linear_model.intercept_)"
   ]
  },
  {
   "cell_type": "code",
   "execution_count": null,
   "metadata": {},
   "outputs": [],
   "source": [
    "# Generate predictions\n",
    "linear_predictions = linear_model.predict(indp_test_set)\n",
    "linear_predictions"
   ]
  },
  {
   "cell_type": "code",
   "execution_count": null,
   "metadata": {},
   "outputs": [],
   "source": [
    "# Compare predictions\n",
    "print(\"Model score: \", linear_model.score(indp_train_set, dep_train_set))"
   ]
  },
  {
   "cell_type": "code",
   "execution_count": null,
   "metadata": {},
   "outputs": [],
   "source": [
    "# Custom predicitons \n",
    "linear_model.predict( [['<variable0>',''<variable0>]] ) #adjust depending on number of inputs "
   ]
  }
 ],
 "metadata": {
  "kernelspec": {
   "display_name": "Python 3",
   "language": "python",
   "name": "python3"
  },
  "language_info": {
   "codemirror_mode": {
    "name": "ipython",
    "version": 3
   },
   "file_extension": ".py",
   "mimetype": "text/x-python",
   "name": "python",
   "nbconvert_exporter": "python",
   "pygments_lexer": "ipython3",
   "version": "3.8.5"
  }
 },
 "nbformat": 4,
 "nbformat_minor": 4
}
