{
 "cells": [
  {
   "cell_type": "code",
   "execution_count": null,
   "metadata": {},
   "outputs": [],
   "source": [
    "#import libraries\n",
    "import pandas\n",
    "\n",
    "from sklearn.linear_model import LinearRegression\n",
    "from sklearn.metrics import mean_squared_error, r2_score\n",
    "from sklearn.model_selection import train_test_split\n",
    "from sklearn.preprocessing import LabelEncoder\n",
    "\n",
    "import matplotlib.pyplot as plt\n",
    "\n",
    "import numpy as np"
   ]
  },
  {
   "cell_type": "code",
   "execution_count": null,
   "metadata": {
    "scrolled": true
   },
   "outputs": [],
   "source": [
    "#import data\n",
    "csv_file=r\"C:\\Users\\HexagonRig 2\\Documents\\GitHub\\MLWithPython\\Sample Data\\resale-prices-processed.csv\"\n",
    "raw_dataframe = pandas.read_csv(csv_file)\n",
    "\n",
    "print(\"Dataframe: \")\n",
    "print(raw_dataframe)\n"
   ]
  },
  {
   "cell_type": "code",
   "execution_count": null,
   "metadata": {},
   "outputs": [],
   "source": [
    "# Data preprocessing\n",
    "raw_dataframe.town = pandas.factorize(raw_dataframe.town)[0]\n",
    "raw_dataframe.flat_type = pandas.factorize(raw_dataframe.flat_type)[0]\n",
    "raw_dataframe.flat_model = pandas.factorize(raw_dataframe.flat_model)[0]\n",
    "print(raw_dataframe)"
   ]
  },
  {
   "cell_type": "code",
   "execution_count": null,
   "metadata": {
    "scrolled": true
   },
   "outputs": [],
   "source": [
    "#Observing the relationship between dependent variable and time\n",
    "#custom range\n",
    "town_value = 0\n",
    "month_value = 1\n",
    "year_value = 2017\n",
    "refined_df = raw_dataframe.loc[ (raw_dataframe['town'] == town_value) &\n",
    "                              # (raw_dataframe['month'] == month_value) &\n",
    "                                (raw_dataframe['year'] == year_value) ]\n",
    "dependent_variable = ['resale_price'] \n",
    "dependent_dataset = refined_df[dependent_variable]\n",
    "print(refined_df)"
   ]
  },
  {
   "cell_type": "code",
   "execution_count": null,
   "metadata": {},
   "outputs": [],
   "source": [
    "dependent_dataset.head(-1).plot()\n",
    "# dependent_dataset.head(-1)[custom_range_start:custom_range_stop].plot() #modify this value to adjust number of rows returned"
   ]
  },
  {
   "cell_type": "code",
   "execution_count": null,
   "metadata": {},
   "outputs": [],
   "source": [
    "# Refine extraction range use 0 and -1 to extract entire range\n",
    "index_start = 0\n",
    "index_stop = 2271\n",
    "\n",
    "independent_variables = ['town','flat_type','floor_area_sqm','flat_model','remaining_lease_months'] #input any number of variables\n",
    "dependent_variable = ['resale_price'] #only input one variable\n",
    "\n",
    "independent_dataset = refined_df[independent_variables]\n",
    "dependent_dataset = refined_df[dependent_variable]\n",
    "\n",
    "# Further splitting dataset into training and testing subsets\n",
    "test_ratio=0.2 #splits the data into testing and training sets with ratio 0.2\n",
    "indp_train_set, indp_test_set, dep_train_set, dep_test_set = train_test_split(independent_dataset, \n",
    "                                                                              dependent_dataset, \n",
    "                                                                              test_size=test_ratio)\n",
    "\n",
    "print(indp_train_set) #outputs the generated test set"
   ]
  },
  {
   "cell_type": "code",
   "execution_count": null,
   "metadata": {},
   "outputs": [],
   "source": [
    "print(independent_dataset)\n",
    "print(dependent_dataset)"
   ]
  },
  {
   "cell_type": "code",
   "execution_count": null,
   "metadata": {},
   "outputs": [],
   "source": [
    "# Create regression object and train model\n",
    "linear_model = LinearRegression()\n",
    "linear_model.fit(indp_train_set, dep_train_set)\n",
    "print(\"Coefficients:\", linear_model.coef_)\n",
    "print(\"Intercept:\", linear_model.intercept_)"
   ]
  },
  {
   "cell_type": "code",
   "execution_count": null,
   "metadata": {},
   "outputs": [],
   "source": [
    "# Generate predictions\n",
    "linear_predictions = linear_model.predict(indp_test_set)\n",
    "linear_predictions"
   ]
  },
  {
   "cell_type": "code",
   "execution_count": null,
   "metadata": {},
   "outputs": [],
   "source": [
    "# Compare predictions\n",
    "print(\"Model score: \", linear_model.score(indp_test_set, dep_test_set))"
   ]
  },
  {
   "cell_type": "code",
   "execution_count": null,
   "metadata": {},
   "outputs": [],
   "source": [
    "# Custom predicitons \n",
    "linear_model.predict( [['<variable0>','<variable1>']] ) #adjust depending on number of inputs "
   ]
  }
 ],
 "metadata": {
  "kernelspec": {
   "display_name": "Python 3",
   "language": "python",
   "name": "python3"
  },
  "language_info": {
   "codemirror_mode": {
    "name": "ipython",
    "version": 3
   },
   "file_extension": ".py",
   "mimetype": "text/x-python",
   "name": "python",
   "nbconvert_exporter": "python",
   "pygments_lexer": "ipython3",
   "version": "3.8.5"
  }
 },
 "nbformat": 4,
 "nbformat_minor": 4
}
