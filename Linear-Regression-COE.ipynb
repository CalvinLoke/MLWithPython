{
 "cells": [
  {
   "cell_type": "code",
   "execution_count": 82,
   "metadata": {},
   "outputs": [],
   "source": [
    "#import libraries\n",
    "import pandas\n",
    "\n",
    "from sklearn.linear_model import LinearRegression\n",
    "from sklearn.metrics import mean_squared_error, r2_score\n",
    "from sklearn.model_selection import train_test_split\n",
    "\n",
    "import seaborn as sns\n",
    "import matplotlib.pyplot as plt\n",
    "\n",
    "import numpy as np\n",
    "\n",
    "import math"
   ]
  },
  {
   "cell_type": "code",
   "execution_count": 87,
   "metadata": {},
   "outputs": [
    {
     "name": "stdout",
     "output_type": "stream",
     "text": [
      "Dataframe: \n",
      "        time  year  month_no  total_traffic  total_passengers  total_mail\n",
      "0    1980-01  1980         1           6501            566879         619\n",
      "1    1980-02  1980         2           6112            552263         593\n",
      "2    1980-03  1980         3           6391            597644         642\n",
      "3    1980-04  1980         4           6247            561218         642\n",
      "4    1980-05  1980         5           6301            587003         646\n",
      "..       ...   ...       ...            ...               ...         ...\n",
      "482  2020-03  2020         3          16223           1649662        2558\n",
      "483  2020-04  2020         4           3865             25189         931\n",
      "484  2020-05  2020         5           4472             24504        1633\n",
      "485  2020-06  2020         6           4779             48241        2496\n",
      "486  2020-07  2020         7           5247             85981        3054\n",
      "\n",
      "[487 rows x 6 columns]\n"
     ]
    }
   ],
   "source": [
    "#import data\n",
    "try:\n",
    "    csv_file=r\"<path-to-file>\"\n",
    "    raw_dataframe = pandas.read_csv(csv_file)\n",
    "\n",
    "    print(\"Dataframe: \")\n",
    "    print(raw_dataframe)\n",
    "except:\n",
    "    print(\"Invalid file path\")"
   ]
  },
  {
   "cell_type": "code",
   "execution_count": 99,
   "metadata": {},
   "outputs": [
    {
     "data": {
      "text/plain": [
       "<AxesSubplot:>"
      ]
     },
     "execution_count": 99,
     "metadata": {},
     "output_type": "execute_result"
    },
    {
     "data": {
      "image/png": "[encoded data removed]",
      "text/plain": [
       "<Figure size 432x288 with 1 Axes>"
      ]
     },
     "metadata": {
      "needs_background": "light"
     },
     "output_type": "display_data"
    }
   ],
   "source": [
    "#Observing the relationship between dependent variable and time\n",
    "dependent_variable = ['<variable0>'] \n",
    "dependent_dataset = raw_dataframe[dependent_variable]\n",
    "\n",
    "dependent_dataset.head(100).plot() #modify this value to adjust number of rows returned"
   ]
  },
  {
   "cell_type": "code",
   "execution_count": 91,
   "metadata": {},
   "outputs": [
    {
     "name": "stdout",
     "output_type": "stream",
     "text": [
      "     month_no  total_traffic\n",
      "214        11          14354\n",
      "235         8          14008\n",
      "239        12          14448\n",
      "15          4           5752\n",
      "135         4           8572\n",
      "..        ...            ...\n",
      "122         3           8130\n",
      "46         11           5556\n",
      "249        10          14941\n",
      "34         11           5457\n",
      "92          9           6320\n",
      "\n",
      "[200 rows x 2 columns]\n"
     ]
    }
   ],
   "source": [
    "# Extract the required data\n",
    "row_count = 250 # restricts the number of rows to extract\n",
    "\n",
    "independent_variables = ['<variable0>','<variable1>'] #input any number of variables\n",
    "dependent_variable = ['<variable0>'] #only input one variable\n",
    "\n",
    "independent_dataset = raw_dataframe[independent_variables].head(row_count)\n",
    "dependent_dataset = raw_dataframe[dependent_variable].head(row_count)\n",
    "\n",
    "# Further splitting dataset into training and testing subsets\n",
    "test_ratio=0.2 #splits the data into testing and training sets with ratio 0.2\n",
    "indp_train_set, indp_test_set, dep_train_set, dep_test_set = train_test_split(independent_dataset, \n",
    "                                                                              dependent_dataset, \n",
    "                                                                              test_size=test_ratio)\n",
    "\n",
    "print(indp_train_set) #outputs the generated test set"
   ]
  },
  {
   "cell_type": "code",
   "execution_count": 103,
   "metadata": {},
   "outputs": [
    {
     "name": "stdout",
     "output_type": "stream",
     "text": [
      "Coefficients: [[10176.81688282   165.37977745]]\n",
      "Intercept: [-253475.45407388]\n"
     ]
    }
   ],
   "source": [
    "# Create regression object and train model\n",
    "linear_model = LinearRegression()\n",
    "linear_model.fit(indp_train_set, dep_train_set)\n",
    "print(\"Coefficients:\", linear_model.coef_)\n",
    "print(\"Intercept:\", linear_model.intercept_)"
   ]
  },
  {
   "cell_type": "code",
   "execution_count": 93,
   "metadata": {},
   "outputs": [
    {
     "data": {
      "text/plain": [
       "array([[ 879943.68764122],\n",
       "       [1905085.24351239],\n",
       "       [ 882069.78247008],\n",
       "       [1038773.0821757 ],\n",
       "       [ 791772.42398109],\n",
       "       [ 696147.1491966 ],\n",
       "       [1025288.66974383],\n",
       "       [1842176.11990027],\n",
       "       [1560546.28003791],\n",
       "       [1027539.17844795],\n",
       "       [ 844492.80957137],\n",
       "       [ 716843.46365616],\n",
       "       [1621116.24448767],\n",
       "       [ 723434.81247624],\n",
       "       [1629131.2031246 ],\n",
       "       [1863066.85890048],\n",
       "       [2028801.23818576],\n",
       "       [2037058.30591937],\n",
       "       [ 694570.0807413 ],\n",
       "       [2088172.57829116],\n",
       "       [ 911672.76263405],\n",
       "       [ 828091.1668404 ],\n",
       "       [ 915577.0691127 ],\n",
       "       [ 678451.51300919],\n",
       "       [1366467.15062805],\n",
       "       [2048339.89420316],\n",
       "       [2247126.3867009 ],\n",
       "       [ 825562.78562258],\n",
       "       [ 879423.70603084],\n",
       "       [ 815651.92011444],\n",
       "       [ 839466.60806758],\n",
       "       [1227063.91937472],\n",
       "       [ 810230.15087554],\n",
       "       [ 817063.60879229],\n",
       "       [ 937165.09063974],\n",
       "       [ 894053.85576587],\n",
       "       [1636343.10515229],\n",
       "       [1706552.78125033],\n",
       "       [ 904662.00380084],\n",
       "       [1338925.45711273],\n",
       "       [ 769983.25925957],\n",
       "       [1578673.24737746],\n",
       "       [ 838344.71304244],\n",
       "       [2248844.99265564],\n",
       "       [ 853382.3516516 ],\n",
       "       [2223033.82623406],\n",
       "       [1999948.42758983],\n",
       "       [1927322.86301022],\n",
       "       [1738217.04806295],\n",
       "       [2177873.22585056]])"
      ]
     },
     "execution_count": 93,
     "metadata": {},
     "output_type": "execute_result"
    }
   ],
   "source": [
    "# Generate predictions\n",
    "linear_predictions = linear_model.predict(indp_test_set)\n",
    "linear_predictions"
   ]
  },
  {
   "cell_type": "code",
   "execution_count": 96,
   "metadata": {},
   "outputs": [
    {
     "name": "stdout",
     "output_type": "stream",
     "text": [
      "Model score:  0.9605711902728119\n"
     ]
    }
   ],
   "source": [
    "# Compare predictions\n",
    "print(\"Model score: \", linear_model.score(indp_train_set, dep_train_set))"
   ]
  },
  {
   "cell_type": "code",
   "execution_count": 105,
   "metadata": {},
   "outputs": [
    {
     "data": {
      "text/plain": [
       "array([[761697.14676278]])"
      ]
     },
     "execution_count": 105,
     "metadata": {},
     "output_type": "execute_result"
    }
   ],
   "source": [
    "# Custom predicitons \n",
    "linear_model.predict( [['<variable0>',''<variable0>]] ) #adjust depending on number of inputs "
   ]
  }
 ],
 "metadata": {
  "kernelspec": {
   "display_name": "Python 3",
   "language": "python",
   "name": "python3"
  },
  "language_info": {
   "codemirror_mode": {
    "name": "ipython",
    "version": 3
   },
   "file_extension": ".py",
   "mimetype": "text/x-python",
   "name": "python",
   "nbconvert_exporter": "python",
   "pygments_lexer": "ipython3",
   "version": "3.8.5"
  }
 },
 "nbformat": 4,
 "nbformat_minor": 4
}
